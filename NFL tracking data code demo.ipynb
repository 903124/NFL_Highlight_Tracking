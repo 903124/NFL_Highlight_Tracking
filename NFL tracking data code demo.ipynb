{
 "cells": [
  {
   "cell_type": "markdown",
   "metadata": {},
   "source": [
    "# Introduction to tracking data in NFL\n",
    "\n",
    "Using data from [NFL Next Gen Stats highlight](https://nextgenstats.nfl.com/highlights/play-list) , we can get a selected sample of tracking data from the webpage. Even though the sample is small, it's still really useful to build a prototype for application to data."
   ]
  },
  {
   "cell_type": "code",
   "execution_count": 1,
   "metadata": {},
   "outputs": [],
   "source": [
    "import pandas as pd\n",
    "import numpy as np\n",
    "import matplotlib.pyplot as plt\n",
    "import torch\n",
    "from torch import nn\n",
    "\n",
    "from shapely.geometry import Point\n",
    "from shapely.geometry.polygon import Polygon\n",
    "from descartes import PolygonPatch"
   ]
  },
  {
   "cell_type": "code",
   "execution_count": 2,
   "metadata": {},
   "outputs": [
    {
     "data": {
      "text/html": [
       "<div>\n",
       "<style scoped>\n",
       "    .dataframe tbody tr th:only-of-type {\n",
       "        vertical-align: middle;\n",
       "    }\n",
       "\n",
       "    .dataframe tbody tr th {\n",
       "        vertical-align: top;\n",
       "    }\n",
       "\n",
       "    .dataframe thead th {\n",
       "        text-align: right;\n",
       "    }\n",
       "</style>\n",
       "<table border=\"1\" class=\"dataframe\">\n",
       "  <thead>\n",
       "    <tr style=\"text-align: right;\">\n",
       "      <th></th>\n",
       "      <th>IsOnOffense</th>\n",
       "      <th>defTeam</th>\n",
       "      <th>dir</th>\n",
       "      <th>displayName</th>\n",
       "      <th>gsisId</th>\n",
       "      <th>nflId</th>\n",
       "      <th>o</th>\n",
       "      <th>position</th>\n",
       "      <th>possTeam</th>\n",
       "      <th>s</th>\n",
       "      <th>time</th>\n",
       "      <th>x</th>\n",
       "      <th>y</th>\n",
       "      <th>game_id</th>\n",
       "      <th>play_id</th>\n",
       "      <th>playType</th>\n",
       "      <th>event_name</th>\n",
       "    </tr>\n",
       "  </thead>\n",
       "  <tbody>\n",
       "    <tr>\n",
       "      <th>0</th>\n",
       "      <td>False</td>\n",
       "      <td>PHI</td>\n",
       "      <td>62.27</td>\n",
       "      <td>Malcolm Jenkins</td>\n",
       "      <td>00-0026990</td>\n",
       "      <td>79848.0</td>\n",
       "      <td>91.32</td>\n",
       "      <td>SS</td>\n",
       "      <td>SEA</td>\n",
       "      <td>0.73</td>\n",
       "      <td>2020-01-05 23:38:35.000</td>\n",
       "      <td>58.91</td>\n",
       "      <td>24.80</td>\n",
       "      <td>2020010501</td>\n",
       "      <td>2688</td>\n",
       "      <td>play_type_pass</td>\n",
       "      <td>NaN</td>\n",
       "    </tr>\n",
       "    <tr>\n",
       "      <th>1</th>\n",
       "      <td>False</td>\n",
       "      <td>PHI</td>\n",
       "      <td>60.92</td>\n",
       "      <td>Malcolm Jenkins</td>\n",
       "      <td>00-0026990</td>\n",
       "      <td>79848.0</td>\n",
       "      <td>91.32</td>\n",
       "      <td>SS</td>\n",
       "      <td>SEA</td>\n",
       "      <td>0.73</td>\n",
       "      <td>2020-01-05 23:38:35.100</td>\n",
       "      <td>58.97</td>\n",
       "      <td>24.83</td>\n",
       "      <td>2020010501</td>\n",
       "      <td>2688</td>\n",
       "      <td>play_type_pass</td>\n",
       "      <td>huddle_start_offense</td>\n",
       "    </tr>\n",
       "    <tr>\n",
       "      <th>2</th>\n",
       "      <td>False</td>\n",
       "      <td>PHI</td>\n",
       "      <td>62.36</td>\n",
       "      <td>Malcolm Jenkins</td>\n",
       "      <td>00-0026990</td>\n",
       "      <td>79848.0</td>\n",
       "      <td>91.32</td>\n",
       "      <td>SS</td>\n",
       "      <td>SEA</td>\n",
       "      <td>0.68</td>\n",
       "      <td>2020-01-05 23:38:35.200</td>\n",
       "      <td>59.04</td>\n",
       "      <td>24.87</td>\n",
       "      <td>2020010501</td>\n",
       "      <td>2688</td>\n",
       "      <td>play_type_pass</td>\n",
       "      <td>NaN</td>\n",
       "    </tr>\n",
       "    <tr>\n",
       "      <th>3</th>\n",
       "      <td>False</td>\n",
       "      <td>PHI</td>\n",
       "      <td>64.37</td>\n",
       "      <td>Malcolm Jenkins</td>\n",
       "      <td>00-0026990</td>\n",
       "      <td>79848.0</td>\n",
       "      <td>91.32</td>\n",
       "      <td>SS</td>\n",
       "      <td>SEA</td>\n",
       "      <td>0.60</td>\n",
       "      <td>2020-01-05 23:38:35.300</td>\n",
       "      <td>59.09</td>\n",
       "      <td>24.89</td>\n",
       "      <td>2020010501</td>\n",
       "      <td>2688</td>\n",
       "      <td>play_type_pass</td>\n",
       "      <td>NaN</td>\n",
       "    </tr>\n",
       "    <tr>\n",
       "      <th>4</th>\n",
       "      <td>False</td>\n",
       "      <td>PHI</td>\n",
       "      <td>68.85</td>\n",
       "      <td>Malcolm Jenkins</td>\n",
       "      <td>00-0026990</td>\n",
       "      <td>79848.0</td>\n",
       "      <td>90.73</td>\n",
       "      <td>SS</td>\n",
       "      <td>SEA</td>\n",
       "      <td>0.50</td>\n",
       "      <td>2020-01-05 23:38:35.400</td>\n",
       "      <td>59.14</td>\n",
       "      <td>24.91</td>\n",
       "      <td>2020010501</td>\n",
       "      <td>2688</td>\n",
       "      <td>play_type_pass</td>\n",
       "      <td>NaN</td>\n",
       "    </tr>\n",
       "  </tbody>\n",
       "</table>\n",
       "</div>"
      ],
      "text/plain": [
       "  IsOnOffense defTeam    dir      displayName      gsisId    nflId      o  \\\n",
       "0       False     PHI  62.27  Malcolm Jenkins  00-0026990  79848.0  91.32   \n",
       "1       False     PHI  60.92  Malcolm Jenkins  00-0026990  79848.0  91.32   \n",
       "2       False     PHI  62.36  Malcolm Jenkins  00-0026990  79848.0  91.32   \n",
       "3       False     PHI  64.37  Malcolm Jenkins  00-0026990  79848.0  91.32   \n",
       "4       False     PHI  68.85  Malcolm Jenkins  00-0026990  79848.0  90.73   \n",
       "\n",
       "  position possTeam     s                     time      x      y     game_id  \\\n",
       "0       SS      SEA  0.73  2020-01-05 23:38:35.000  58.91  24.80  2020010501   \n",
       "1       SS      SEA  0.73  2020-01-05 23:38:35.100  58.97  24.83  2020010501   \n",
       "2       SS      SEA  0.68  2020-01-05 23:38:35.200  59.04  24.87  2020010501   \n",
       "3       SS      SEA  0.60  2020-01-05 23:38:35.300  59.09  24.89  2020010501   \n",
       "4       SS      SEA  0.50  2020-01-05 23:38:35.400  59.14  24.91  2020010501   \n",
       "\n",
       "   play_id        playType            event_name  \n",
       "0     2688  play_type_pass                   NaN  \n",
       "1     2688  play_type_pass  huddle_start_offense  \n",
       "2     2688  play_type_pass                   NaN  \n",
       "3     2688  play_type_pass                   NaN  \n",
       "4     2688  play_type_pass                   NaN  "
      ]
     },
     "execution_count": 2,
     "metadata": {},
     "output_type": "execute_result"
    }
   ],
   "source": [
    "tracking_data = pd.read_csv('Highlight_19_post.csv', index_col=[0])\n",
    "tracking_data.head()"
   ]
  },
  {
   "cell_type": "markdown",
   "metadata": {},
   "source": [
    "# 1. route visualization\n",
    "\n",
    "For a start, here is a simple snippet to produce route by receiver in a play"
   ]
  },
  {
   "cell_type": "code",
   "execution_count": 3,
   "metadata": {},
   "outputs": [
    {
     "data": {
      "text/plain": [
       "(-1.0169897956103764, 53.56373517364156, 81.81705674335001, 122.47719911607862)"
      ]
     },
     "execution_count": 3,
     "metadata": {},
     "output_type": "execute_result"
    },
    {
     "data": {
      "image/png": "[encoded data removed]",
      "text/plain": [
       "<Figure size 432x288 with 1 Axes>"
      ]
     },
     "metadata": {
      "needs_background": "light"
     },
     "output_type": "display_data"
    }
   ],
   "source": [
    "play_data = tracking_data[(tracking_data.play_id == 3227) & (tracking_data.game_id == 2020010500)]\n",
    "\n",
    "snap_event = np.array(play_data[play_data.event_name == 'ball_snap']['time'])[0]\n",
    "\n",
    "play_data = play_data[play_data.time >= snap_event]\n",
    "\n",
    "skill_pos = ['WR','RB','TE','FB']\n",
    "\n",
    "skill_pos_df =  play_data[play_data.position.isin(skill_pos) ]\n",
    "\n",
    "\n",
    "player_name = skill_pos_df.gsisId.unique()\n",
    "\n",
    "for player in player_name:\n",
    "    temp_df = skill_pos_df[skill_pos_df.gsisId == player]\n",
    "    plt.scatter(50-temp_df.y,temp_df.x)\n",
    "plt.axis('equal')"
   ]
  },
  {
   "cell_type": "markdown",
   "metadata": {},
   "source": [
    "# 2. Pass Block Win Rate\n",
    "\n",
    "There is a metric developed by ESPN called [Pass Block Win Rate](https://www.espn.com/nfl/story/_/id/27584726/nfl-pass-blocking-pass-rushing-rankings-2019-pbwr-prwr-leaderboard) which measures how good is pass blocker/pass rusher. Their method is to use tracking data to construct a polygon around all offensive lineman, and if any defender enter the polygon within 2.5 seconds after snap it's considered as a pass rush win/pass block lost, and vice versa. Next is a simple snippet of recreating the metric and a visualization of the process"
   ]
  },
  {
   "cell_type": "code",
   "execution_count": 4,
   "metadata": {},
   "outputs": [],
   "source": [
    "\n",
    "play_data = tracking_data[(tracking_data.play_id == 3086) & (tracking_data.game_id == 2020020200)]\n",
    "\n",
    "snap_event = np.array(play_data[play_data.event_name == 'ball_snap']['time'])[0]\n",
    "\n",
    "play_data = play_data[play_data.time >= snap_event]\n",
    "\n",
    "OL_pos = ['T','C','G']\n",
    "\n",
    "OL_pos_df =  play_data[play_data.position.isin(OL_pos) ]\n",
    "\n",
    "defense_pos_df = play_data[play_data.IsOnOffense == False ]\n",
    "\n",
    "offense_pos_df =  play_data[play_data.IsOnOffense == True ]"
   ]
  },
  {
   "cell_type": "code",
   "execution_count": 5,
   "metadata": {},
   "outputs": [],
   "source": [
    "OL_coordinate_array = np.array(OL_pos_df.groupby('time').apply(lambda x: [np.array(x['x']), np.array(x['y'])]).apply(pd.Series))\n",
    "offense_array = np.array(offense_pos_df.groupby('time').apply(lambda x: [np.array(x['x']), np.array(x['y'])]).apply(pd.Series))\n",
    "defense_array = np.array(defense_pos_df.groupby('time').apply(lambda x: [np.array(x['x']), np.array(x['y'])]).apply(pd.Series))"
   ]
  },
  {
   "cell_type": "code",
   "execution_count": 6,
   "metadata": {},
   "outputs": [],
   "source": [
    "def ccw_sort(p): #sort points counter clockwise\n",
    "    p = np.array(p)\n",
    "    mean = np.mean(p,axis=0)\n",
    "    d = p-mean\n",
    "    s = np.arctan2(d[:,0], d[:,1])\n",
    "    return p[np.argsort(s),:]"
   ]
  },
  {
   "cell_type": "code",
   "execution_count": 7,
   "metadata": {},
   "outputs": [
    {
     "name": "stdout",
     "output_type": "stream",
     "text": [
      "pass rush win at 1.90 s\n"
     ]
    }
   ],
   "source": [
    "#Loop through first 25 frames (2.5 s) to determine pass rush win or lost\n",
    "\n",
    "pass_rush_win = 0\n",
    "pass_block_win_cutoff = 25\n",
    "for frame in range(pass_block_win_cutoff ):\n",
    "    if(pass_rush_win == 1):\n",
    "        break\n",
    "    oline_polygon = Polygon(ccw_sort(np.vstack(OL_coordinate_array[frame]).T))\n",
    "    for def_player_coord in np.vstack(defense_array[frame]).T:\n",
    "        if (oline_polygon.contains(Point(def_player_coord)) and pass_rush_win == 0):\n",
    "            print(\"pass rush win at %1.2f s\"% ((frame+1)*0.1))\n",
    "            pass_rush_win = 1\n",
    "    if(frame == pass_block_win_cutoff-1):\n",
    "        print('pass block win before 2.5 s')"
   ]
  },
  {
   "cell_type": "code",
   "execution_count": 8,
   "metadata": {},
   "outputs": [
    {
     "data": {
      "text/plain": [
       "<matplotlib.patches.PathPatch at 0x12e2931a4a8>"
      ]
     },
     "execution_count": 8,
     "metadata": {},
     "output_type": "execute_result"
    },
    {
     "data": {
      "image/png": "[encoded data removed]",
      "text/plain": [
       "<Figure size 432x288 with 1 Axes>"
      ]
     },
     "metadata": {
      "needs_background": "light"
     },
     "output_type": "display_data"
    }
   ],
   "source": [
    "#Adding a red patch to offensive line polygon\n",
    "\n",
    "ax = plt.subplot(111)\n",
    "ax.scatter(np.vstack(offense_array[20]).T[:,0],np.vstack(offense_array[20]).T[:,1])\n",
    "ax.scatter(np.vstack(defense_array[20]).T[:,0],np.vstack(defense_array[20]).T[:,1])\n",
    "ring_patch = PolygonPatch(oline_polygon,alpha=0.4,color='red')\n",
    "ax.add_patch(ring_patch)"
   ]
  },
  {
   "cell_type": "markdown",
   "metadata": {},
   "source": [
    "# 3 Predict yards gain of rushing play\n",
    "\n",
    "In [Kaggle big data bowl 2020 competition](https://www.kaggle.com/c/nfl-big-data-bowl-2020) competitors are asked to predict yards gain of a rushing play using a snapshot of data at handoff. The following code snippet use a model reproducing 1st place solution and can be [downloaded here](https://www.kaggle.com/takuok/1st-place-reproduction-10feats-dev)"
   ]
  },
  {
   "cell_type": "code",
   "execution_count": 9,
   "metadata": {},
   "outputs": [],
   "source": [
    "play_df = tracking_data[(tracking_data.play_id == 1604) & (tracking_data.game_id == 2020010401)]"
   ]
  },
  {
   "cell_type": "code",
   "execution_count": 10,
   "metadata": {},
   "outputs": [
    {
     "name": "stderr",
     "output_type": "stream",
     "text": [
      "C:\\Users\\kayiu\\Anaconda3.7\\lib\\site-packages\\IPython\\core\\interactiveshell.py:3057: DtypeWarning: Columns (40,43,176,177,178,179,186,187,192,193,200,201,202,203,204,209,211,213,230,231,232,233,234,235,236,238,239,240,242,243) have mixed types. Specify dtype option on import or set low_memory=False.\n",
      "  interactivity=interactivity, compiler=compiler, result=result)\n"
     ]
    }
   ],
   "source": [
    "pbp_df = pd.read_csv('post_pbp_2019.csv') #merge to nflscrapR data"
   ]
  },
  {
   "cell_type": "code",
   "execution_count": 11,
   "metadata": {},
   "outputs": [],
   "source": [
    "play_df = pd.merge(play_df,pbp_df[['game_id','play_id', 'rusher_player_id']])"
   ]
  },
  {
   "cell_type": "code",
   "execution_count": 12,
   "metadata": {},
   "outputs": [],
   "source": [
    "play_df['x_s'] = play_df['s'] * np.cos((np.pi / 180) * play_df['dir'])\n",
    "play_df['y_s'] = play_df['s'] * np.sin((np.pi / 180) * play_df['dir'])\n",
    "\n",
    "play_df['IsRusher'] = play_df['gsisId'] == play_df['rusher_player_id']"
   ]
  },
  {
   "cell_type": "code",
   "execution_count": 13,
   "metadata": {},
   "outputs": [],
   "source": [
    "handoff_frame = play_df[play_df.event_name == 'handoff']"
   ]
  },
  {
   "cell_type": "code",
   "execution_count": 14,
   "metadata": {},
   "outputs": [],
   "source": [
    "def create_faetures(df):\n",
    "    xysdir_o = df[(df.IsOnOffense == True) & (df.IsRusher == False)][['x','y','x_s','y_s']].values\n",
    "    xysdir_rush = df[df.IsRusher == True][['x','y','x_s','y_s']].values\n",
    "    xysdir_d = df[df.IsOnOffense == False][['x','y','x_s','y_s']].values\n",
    "    \n",
    "    off_x = np.array(df[(df.IsOnOffense == True) & (df.IsRusher == False)].groupby('play_id')['x'].apply(np.array))\n",
    "    def_x = np.array(df[(df.IsOnOffense == False) ].groupby('play_id')['x'].apply(np.array))\n",
    "    off_y = np.array(df[(df.IsOnOffense == True) & (df.IsRusher == False)].groupby('play_id')['y'].apply(np.array))\n",
    "    def_y = np.array(df[(df.IsOnOffense == False) ].groupby('play_id')['y'].apply(np.array))\n",
    "    off_sx = np.array(df[(df.IsOnOffense == True) & (df.IsRusher == False)].groupby('play_id')['x_s'].apply(np.array))\n",
    "    def_sx = np.array(df[(df.IsOnOffense == False) ].groupby('play_id')['x_s'].apply(np.array))\n",
    "    off_sy = np.array(df[(df.IsOnOffense == True) & (df.IsRusher == False)].groupby('play_id')['y_s'].apply(np.array))\n",
    "    def_sy = np.array(df[(df.IsOnOffense == False) ].groupby('play_id')['y_s'].apply(np.array))\n",
    "    \n",
    "\n",
    "    player_vector = []\n",
    "    for play in range(len(off_x)):\n",
    "        player_feat = player_feature(off_x[play],def_x[play],off_y[play],def_y[play],off_sx[play],def_sx[play],\n",
    "                                     off_sy[play],def_sy[play],xysdir_rush[play])\n",
    "        player_vector.append(player_feat)\n",
    "    \n",
    "    return np.array(player_vector)\n",
    "\n",
    "    \n",
    "def player_feature(off_x,def_x,off_y,def_y,off_sx,def_sx,off_sy,def_sy,xysdir_rush):\n",
    "    if(len(off_x)<10):\n",
    "        off_x = np.pad(off_x,(10-len(off_x),0), 'mean' )\n",
    "        off_y = np.pad(off_y,(10-len(off_y),0), 'mean' )\n",
    "        off_sx = np.pad(off_sx,(10-len(off_sx),0), 'mean' )\n",
    "        off_sy = np.pad(off_sy,(10-len(off_sy),0), 'mean' )\n",
    "    if(len(def_x)<11):\n",
    "        def_x = np.pad(def_x,(11-len(def_x),0), 'mean' )\n",
    "        def_y = np.pad(def_y,(11-len(def_y),0), 'mean' )\n",
    "        def_sx = np.pad(def_sx,(11-len(def_sx),0), 'mean' )\n",
    "        def_sy = np.pad(def_sy,(11-len(def_sy),0), 'mean' )\n",
    "\n",
    "    dist_def_off_x = def_x.reshape(-1,1)-off_x.reshape(1,-1)\n",
    "    dist_def_off_sx = def_sx.reshape(-1,1)-off_sx.reshape(1,-1)\n",
    "    dist_def_off_y = def_y.reshape(-1,1)-off_y.reshape(1,-1)\n",
    "    dist_def_off_sy = def_sy.reshape(-1,1)-off_sy.reshape(1,-1)\n",
    "    dist_def_rush_x = def_x.reshape(-1,1)-np.repeat(xysdir_rush[0],10).reshape(1,-1)\n",
    "    dist_def_rush_y = def_y.reshape(-1,1)-np.repeat(xysdir_rush[1],10).reshape(1,-1)\n",
    "    dist_def_rush_sx = def_sx.reshape(-1,1)-np.repeat(xysdir_rush[2],10).reshape(1,-1)\n",
    "    dist_def_rush_sy = def_sy.reshape(-1,1)-np.repeat(xysdir_rush[3],10).reshape(1,-1)\n",
    "    def_sx = np.repeat(def_sx,10).reshape(11,-1)\n",
    "    def_sy = np.repeat(def_sy,10).reshape(11,-1)\n",
    "    feats = [dist_def_off_x, dist_def_off_sx, dist_def_off_y, dist_def_off_sy, dist_def_rush_x, dist_def_rush_y,\n",
    "            dist_def_rush_sx, dist_def_rush_sy, def_sx, def_sy]\n",
    "    \n",
    "    return np.stack(feats)"
   ]
  },
  {
   "cell_type": "code",
   "execution_count": 15,
   "metadata": {},
   "outputs": [
    {
     "data": {
      "text/plain": [
       "<All keys matched successfully>"
      ]
     },
     "execution_count": 15,
     "metadata": {},
     "output_type": "execute_result"
    }
   ],
   "source": [
    "class Flatten(nn.Module):\n",
    "    def forward(self, input):\n",
    "        return input.view(input.size(0), -1)\n",
    "\n",
    "class CnnModel(nn.Module):\n",
    "    def __init__(self, num_classes):\n",
    "        super().__init__()\n",
    "        self.conv1 = nn.Sequential(\n",
    "            nn.Conv2d(10, 128, kernel_size=1, stride=1, bias=False),\n",
    "            nn.ReLU(inplace=True),\n",
    "            nn.Conv2d(128, 160, kernel_size=1, stride=1, bias=False),\n",
    "            nn.ReLU(inplace=True),\n",
    "            nn.Conv2d(160, 128, kernel_size=1, stride=1, bias=False),\n",
    "            nn.ReLU(inplace=True)\n",
    "        )\n",
    "        self.pool1 = nn.AdaptiveAvgPool2d((1, 11))\n",
    "\n",
    "        self.conv2 = nn.Sequential(\n",
    "            nn.BatchNorm2d(128),\n",
    "            nn.Conv2d(128, 160, kernel_size=(1, 1), stride=1, bias=False),\n",
    "            nn.ReLU(inplace=True),\n",
    "            nn.BatchNorm2d(160),\n",
    "            nn.Conv2d(160, 96, kernel_size=(1, 1), stride=1, bias=False),\n",
    "            nn.ReLU(inplace=True),\n",
    "            nn.BatchNorm2d(96),\n",
    "            nn.Conv2d(96, 96, kernel_size=(1, 1), stride=1, bias=False),\n",
    "            nn.ReLU(inplace=True),\n",
    "            nn.BatchNorm2d(96),\n",
    "        )\n",
    "        self.pool2 = nn.AdaptiveAvgPool2d((1, 1))\n",
    "\n",
    "        self.last_linear = nn.Sequential(\n",
    "            Flatten(),\n",
    "            nn.Linear(96, 256),\n",
    "            nn.LayerNorm(256),\n",
    "            nn.ReLU(inplace=True),\n",
    "            nn.Dropout(0.3),\n",
    "            nn.Linear(256, num_classes)\n",
    "        )\n",
    "\n",
    "    def forward(self, x):\n",
    "        x = self.conv1(x)\n",
    "        x = self.pool1(x)\n",
    "        x = self.conv2(x)\n",
    "        x = self.pool2(x)\n",
    "        x = self.last_linear(x)\n",
    "\n",
    "        return x\n",
    "\n",
    "model = CnnModel(num_classes=199)\n",
    "\n",
    "model.load_state_dict(torch.load('exp1_reproduce_fold1.pth'))"
   ]
  },
  {
   "cell_type": "code",
   "execution_count": 16,
   "metadata": {},
   "outputs": [],
   "source": [
    "x = create_faetures(handoff_frame)\n",
    "y_preds = torch.softmax(model(torch.tensor(x, dtype=torch.float32)), dim=1).float().detach().numpy()"
   ]
  },
  {
   "cell_type": "code",
   "execution_count": 17,
   "metadata": {
    "scrolled": true
   },
   "outputs": [
    {
     "name": "stdout",
     "output_type": "stream",
     "text": [
      "Average yards gain of play = 4.68\n"
     ]
    }
   ],
   "source": [
    "print('Average yards gain of play = %1.2f' % np.sum(y_preds[0]*np.arange(-99,100)))"
   ]
  },
  {
   "cell_type": "code",
   "execution_count": 22,
   "metadata": {},
   "outputs": [
    {
     "name": "stdout",
     "output_type": "stream",
     "text": [
      "Chance of getting 20+ yards run = 1.80%\n"
     ]
    }
   ],
   "source": [
    "print('Chance of getting 20+ yards run = %1.2f%%'% (np.sum(y_preds[0][120:])*100))"
   ]
  }
 ],
 "metadata": {
  "kernelspec": {
   "display_name": "Python 3",
   "language": "python",
   "name": "python3"
  },
  "language_info": {
   "codemirror_mode": {
    "name": "ipython",
    "version": 3
   },
   "file_extension": ".py",
   "mimetype": "text/x-python",
   "name": "python",
   "nbconvert_exporter": "python",
   "pygments_lexer": "ipython3",
   "version": "3.7.3"
  }
 },
 "nbformat": 4,
 "nbformat_minor": 2
}
